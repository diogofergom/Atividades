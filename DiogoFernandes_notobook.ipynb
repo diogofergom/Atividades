{
 "cells": [
  {
   "cell_type": "code",
   "execution_count": 2,
   "metadata": {},
   "outputs": [],
   "source": [
    "import pandas as pd"
   ]
  },
  {
   "cell_type": "code",
   "execution_count": 3,
   "metadata": {},
   "outputs": [],
   "source": [
    "df = pd.read_excel('dados.xls')"
   ]
  },
  {
   "cell_type": "code",
   "execution_count": 4,
   "metadata": {},
   "outputs": [
    {
     "data": {
      "text/html": [
       "<div>\n",
       "<style scoped>\n",
       "    .dataframe tbody tr th:only-of-type {\n",
       "        vertical-align: middle;\n",
       "    }\n",
       "\n",
       "    .dataframe tbody tr th {\n",
       "        vertical-align: top;\n",
       "    }\n",
       "\n",
       "    .dataframe thead th {\n",
       "        text-align: right;\n",
       "    }\n",
       "</style>\n",
       "<table border=\"1\" class=\"dataframe\">\n",
       "  <thead>\n",
       "    <tr style=\"text-align: right;\">\n",
       "      <th></th>\n",
       "      <th>Código da transação</th>\n",
       "      <th>Status da transação</th>\n",
       "      <th>Data da transação</th>\n",
       "      <th>Confirmação do pagamento</th>\n",
       "      <th>Produtor(a)</th>\n",
       "      <th>Código do produto</th>\n",
       "      <th>Produto</th>\n",
       "      <th>Código do preço</th>\n",
       "      <th>Nome deste preço</th>\n",
       "      <th>Taxa de conversão (moeda de compra)</th>\n",
       "      <th>...</th>\n",
       "      <th>Telefone</th>\n",
       "      <th>Documento</th>\n",
       "      <th>Código postal</th>\n",
       "      <th>Cidade</th>\n",
       "      <th>Estado / Província</th>\n",
       "      <th>Endereço</th>\n",
       "      <th>Bairro</th>\n",
       "      <th>Número</th>\n",
       "      <th>Complemento</th>\n",
       "      <th>Instagram</th>\n",
       "    </tr>\n",
       "  </thead>\n",
       "  <tbody>\n",
       "    <tr>\n",
       "      <th>0</th>\n",
       "      <td>HP1</td>\n",
       "      <td>Aprovado</td>\n",
       "      <td>28/06/2021 19:21:25</td>\n",
       "      <td>28/06/2021 19:21:27</td>\n",
       "      <td>4blue</td>\n",
       "      <td>1</td>\n",
       "      <td>Iluminismo Financeiro 2.1</td>\n",
       "      <td>1</td>\n",
       "      <td>Preço Especial Iluminismo Financeiro - Cartão</td>\n",
       "      <td>1.0</td>\n",
       "      <td>...</td>\n",
       "      <td>7798880990</td>\n",
       "      <td>7373664000484</td>\n",
       "      <td>(none)</td>\n",
       "      <td>(none)</td>\n",
       "      <td>(none)</td>\n",
       "      <td>(none)</td>\n",
       "      <td>(none)</td>\n",
       "      <td>(none)</td>\n",
       "      <td>(none)</td>\n",
       "      <td>(none)</td>\n",
       "    </tr>\n",
       "    <tr>\n",
       "      <th>1</th>\n",
       "      <td>HP2</td>\n",
       "      <td>Aprovado</td>\n",
       "      <td>28/06/2021 19:12:22</td>\n",
       "      <td>28/06/2021 19:12:23</td>\n",
       "      <td>4blue</td>\n",
       "      <td>2</td>\n",
       "      <td>yampa - software financeiro da 4blue</td>\n",
       "      <td>2</td>\n",
       "      <td>Yampa - Oferta plano mensal</td>\n",
       "      <td>1.0</td>\n",
       "      <td>...</td>\n",
       "      <td>97999029790</td>\n",
       "      <td>4947494000430</td>\n",
       "      <td>(none)</td>\n",
       "      <td>(none)</td>\n",
       "      <td>(none)</td>\n",
       "      <td>(none)</td>\n",
       "      <td>(none)</td>\n",
       "      <td>(none)</td>\n",
       "      <td>(none)</td>\n",
       "      <td>(none)</td>\n",
       "    </tr>\n",
       "    <tr>\n",
       "      <th>2</th>\n",
       "      <td>HP3</td>\n",
       "      <td>Boleto impresso</td>\n",
       "      <td>28/06/2021 18:46:29</td>\n",
       "      <td>(none)</td>\n",
       "      <td>4blue</td>\n",
       "      <td>3</td>\n",
       "      <td>Maratona de Finanças - Experiência VIP</td>\n",
       "      <td>3</td>\n",
       "      <td>Experiência Vip</td>\n",
       "      <td>1.0</td>\n",
       "      <td>...</td>\n",
       "      <td>27969909890</td>\n",
       "      <td>80870347794</td>\n",
       "      <td>(none)</td>\n",
       "      <td>(none)</td>\n",
       "      <td>(none)</td>\n",
       "      <td>(none)</td>\n",
       "      <td>(none)</td>\n",
       "      <td>(none)</td>\n",
       "      <td>(none)</td>\n",
       "      <td>(none)</td>\n",
       "    </tr>\n",
       "    <tr>\n",
       "      <th>3</th>\n",
       "      <td>HP4</td>\n",
       "      <td>Boleto impresso</td>\n",
       "      <td>28/06/2021 17:28:04</td>\n",
       "      <td>(none)</td>\n",
       "      <td>4blue</td>\n",
       "      <td>4</td>\n",
       "      <td>Precificação para Produtos</td>\n",
       "      <td>4</td>\n",
       "      <td>(none)</td>\n",
       "      <td>1.0</td>\n",
       "      <td>...</td>\n",
       "      <td>(none)</td>\n",
       "      <td>70070407403</td>\n",
       "      <td>(none)</td>\n",
       "      <td>(none)</td>\n",
       "      <td>(none)</td>\n",
       "      <td>(none)</td>\n",
       "      <td>(none)</td>\n",
       "      <td>(none)</td>\n",
       "      <td>(none)</td>\n",
       "      <td>(none)</td>\n",
       "    </tr>\n",
       "    <tr>\n",
       "      <th>4</th>\n",
       "      <td>HP5</td>\n",
       "      <td>Boleto impresso</td>\n",
       "      <td>28/06/2021 17:27:21</td>\n",
       "      <td>(none)</td>\n",
       "      <td>4blue</td>\n",
       "      <td>2</td>\n",
       "      <td>yampa - software financeiro da 4blue</td>\n",
       "      <td>5</td>\n",
       "      <td>Condição Única</td>\n",
       "      <td>1.0</td>\n",
       "      <td>...</td>\n",
       "      <td>(none)</td>\n",
       "      <td>70070407403</td>\n",
       "      <td>(none)</td>\n",
       "      <td>(none)</td>\n",
       "      <td>(none)</td>\n",
       "      <td>(none)</td>\n",
       "      <td>(none)</td>\n",
       "      <td>(none)</td>\n",
       "      <td>(none)</td>\n",
       "      <td>(none)</td>\n",
       "    </tr>\n",
       "  </tbody>\n",
       "</table>\n",
       "<p>5 rows × 51 columns</p>\n",
       "</div>"
      ],
      "text/plain": [
       "  Código da transação Status da transação    Data da transação  \\\n",
       "0                 HP1            Aprovado  28/06/2021 19:21:25   \n",
       "1                 HP2            Aprovado  28/06/2021 19:12:22   \n",
       "2                 HP3     Boleto impresso  28/06/2021 18:46:29   \n",
       "3                 HP4     Boleto impresso  28/06/2021 17:28:04   \n",
       "4                 HP5     Boleto impresso  28/06/2021 17:27:21   \n",
       "\n",
       "  Confirmação do pagamento Produtor(a)  Código do produto  \\\n",
       "0      28/06/2021 19:21:27       4blue                  1   \n",
       "1      28/06/2021 19:12:23       4blue                  2   \n",
       "2                   (none)       4blue                  3   \n",
       "3                   (none)       4blue                  4   \n",
       "4                   (none)       4blue                  2   \n",
       "\n",
       "                                  Produto  Código do preço  \\\n",
       "0               Iluminismo Financeiro 2.1                1   \n",
       "1    yampa - software financeiro da 4blue                2   \n",
       "2  Maratona de Finanças - Experiência VIP                3   \n",
       "3              Precificação para Produtos                4   \n",
       "4    yampa - software financeiro da 4blue                5   \n",
       "\n",
       "                                Nome deste preço  \\\n",
       "0  Preço Especial Iluminismo Financeiro - Cartão   \n",
       "1                    Yampa - Oferta plano mensal   \n",
       "2                                Experiência Vip   \n",
       "3                                         (none)   \n",
       "4                                 Condição Única   \n",
       "\n",
       "   Taxa de conversão (moeda de compra)  ...     Telefone      Documento  \\\n",
       "0                                  1.0  ...   7798880990  7373664000484   \n",
       "1                                  1.0  ...  97999029790  4947494000430   \n",
       "2                                  1.0  ...  27969909890    80870347794   \n",
       "3                                  1.0  ...       (none)    70070407403   \n",
       "4                                  1.0  ...       (none)    70070407403   \n",
       "\n",
       "   Código postal  Cidade  Estado / Província Endereço  Bairro  Número  \\\n",
       "0         (none)  (none)              (none)   (none)  (none)  (none)   \n",
       "1         (none)  (none)              (none)   (none)  (none)  (none)   \n",
       "2         (none)  (none)              (none)   (none)  (none)  (none)   \n",
       "3         (none)  (none)              (none)   (none)  (none)  (none)   \n",
       "4         (none)  (none)              (none)   (none)  (none)  (none)   \n",
       "\n",
       "  Complemento  Instagram  \n",
       "0      (none)     (none)  \n",
       "1      (none)     (none)  \n",
       "2      (none)     (none)  \n",
       "3      (none)     (none)  \n",
       "4      (none)     (none)  \n",
       "\n",
       "[5 rows x 51 columns]"
      ]
     },
     "execution_count": 4,
     "metadata": {},
     "output_type": "execute_result"
    }
   ],
   "source": [
    "df.head()"
   ]
  },
  {
   "cell_type": "code",
   "execution_count": 5,
   "metadata": {},
   "outputs": [
    {
     "data": {
      "text/plain": [
       "Index(['Código da transação', 'Status da transação', 'Data da transação',\n",
       "       'Confirmação do pagamento', 'Produtor(a)', 'Código do produto',\n",
       "       'Produto', 'Código do preço', 'Nome deste preço',\n",
       "       'Taxa de conversão (moeda de compra)', 'Moeda de compra',\n",
       "       'Valor de compra com impostos', 'Impostos locais de compra',\n",
       "       'Valor de compra sem impostos', 'Taxa de conversão (moeda da comissão)',\n",
       "       'Moeda da comissão', 'Comissão bruta (sem impostos)', 'Minha comissão',\n",
       "       'Venda feita como', 'Comissão do(a) Produtor(a)',\n",
       "       'Comissão do(a) Afiliado(a)', 'Comissão do(a) Coprodutor(a)',\n",
       "       'Moeda das tarifas', 'Tarifa de processamento', 'Tarifa de streaming',\n",
       "       'Outras tarifas', 'Nome do(a) Afiliado(a)', 'Canal usado para venda',\n",
       "       'Código SRC', 'Código SCK', 'Método de pagamento', 'Tipo de cobrança',\n",
       "       'Quantidade total de parcelas', 'Quantidade de cobranças',\n",
       "       'Data de vencimento (vouchers)', 'Código de cupom',\n",
       "       'Período gratuito (Trial)', 'Quantidade de itens', 'Comprador(a)',\n",
       "       'Email do(a) Comprador(a)', 'País', 'Telefone', 'Documento',\n",
       "       'Código postal', 'Cidade', 'Estado / Província', 'Endereço', 'Bairro',\n",
       "       'Número', 'Complemento', 'Instagram'],\n",
       "      dtype='object')"
      ]
     },
     "execution_count": 5,
     "metadata": {},
     "output_type": "execute_result"
    }
   ],
   "source": [
    "df.columns"
   ]
  },
  {
   "cell_type": "code",
   "execution_count": 20,
   "metadata": {},
   "outputs": [],
   "source": [
    "df2 = df[['Código da transação', 'Status da transação', 'Data da transação',\n",
    "       'Código do preço', 'Nome deste preço','Valor de compra com impostos', 'Impostos locais de compra',\n",
    "       'Valor de compra sem impostos',\n",
    "       'Confirmação do pagamento', 'Código do produto',\n",
    "       'Produto','Taxa de conversão (moeda de compra)', 'Moeda de compra',\n",
    "        'Taxa de conversão (moeda da comissão)',\n",
    "       'Moeda da comissão', 'Comissão bruta (sem impostos)', 'Minha comissão',\n",
    "       'Venda feita como', 'Comissão do(a) Produtor(a)',\n",
    "       'Método de pagamento', 'Tipo de cobrança',\n",
    "       'Quantidade total de parcelas', 'Quantidade de itens', 'Comprador(a)',\n",
    "       'País']]"
   ]
  },
  {
   "cell_type": "code",
   "execution_count": 21,
   "metadata": {},
   "outputs": [
    {
     "data": {
      "text/html": [
       "<div>\n",
       "<style scoped>\n",
       "    .dataframe tbody tr th:only-of-type {\n",
       "        vertical-align: middle;\n",
       "    }\n",
       "\n",
       "    .dataframe tbody tr th {\n",
       "        vertical-align: top;\n",
       "    }\n",
       "\n",
       "    .dataframe thead th {\n",
       "        text-align: right;\n",
       "    }\n",
       "</style>\n",
       "<table border=\"1\" class=\"dataframe\">\n",
       "  <thead>\n",
       "    <tr style=\"text-align: right;\">\n",
       "      <th></th>\n",
       "      <th>Código da transação</th>\n",
       "      <th>Status da transação</th>\n",
       "      <th>Data da transação</th>\n",
       "      <th>Código do preço</th>\n",
       "      <th>Nome deste preço</th>\n",
       "      <th>Valor de compra com impostos</th>\n",
       "      <th>Impostos locais de compra</th>\n",
       "      <th>Valor de compra sem impostos</th>\n",
       "      <th>Confirmação do pagamento</th>\n",
       "      <th>Código do produto</th>\n",
       "      <th>...</th>\n",
       "      <th>Comissão bruta (sem impostos)</th>\n",
       "      <th>Minha comissão</th>\n",
       "      <th>Venda feita como</th>\n",
       "      <th>Comissão do(a) Produtor(a)</th>\n",
       "      <th>Método de pagamento</th>\n",
       "      <th>Tipo de cobrança</th>\n",
       "      <th>Quantidade total de parcelas</th>\n",
       "      <th>Quantidade de itens</th>\n",
       "      <th>Comprador(a)</th>\n",
       "      <th>País</th>\n",
       "    </tr>\n",
       "  </thead>\n",
       "  <tbody>\n",
       "    <tr>\n",
       "      <th>0</th>\n",
       "      <td>HP1</td>\n",
       "      <td>Aprovado</td>\n",
       "      <td>28/06/2021 19:21:25</td>\n",
       "      <td>1</td>\n",
       "      <td>Preço Especial Iluminismo Financeiro - Cartão</td>\n",
       "      <td>1110.0</td>\n",
       "      <td>443.4</td>\n",
       "      <td>4154.1</td>\n",
       "      <td>28/06/2021 19:21:27</td>\n",
       "      <td>1</td>\n",
       "      <td>...</td>\n",
       "      <td>6156.1</td>\n",
       "      <td>5551.58</td>\n",
       "      <td>Produtor</td>\n",
       "      <td>5551.58</td>\n",
       "      <td>Cartão de Crédito</td>\n",
       "      <td>Parcelamento (juros para o Produtor)</td>\n",
       "      <td>12</td>\n",
       "      <td>1</td>\n",
       "      <td>Yhkh pkulh gkstknh</td>\n",
       "      <td>Brasil</td>\n",
       "    </tr>\n",
       "    <tr>\n",
       "      <th>1</th>\n",
       "      <td>HP2</td>\n",
       "      <td>Aprovado</td>\n",
       "      <td>28/06/2021 19:12:22</td>\n",
       "      <td>2</td>\n",
       "      <td>Yampa - Oferta plano mensal</td>\n",
       "      <td>19.9</td>\n",
       "      <td>0.0</td>\n",
       "      <td>45.5</td>\n",
       "      <td>28/06/2021 19:12:23</td>\n",
       "      <td>2</td>\n",
       "      <td>...</td>\n",
       "      <td>45.5</td>\n",
       "      <td>46.50</td>\n",
       "      <td>Produtor</td>\n",
       "      <td>46.50</td>\n",
       "      <td>Cartão de Crédito</td>\n",
       "      <td>Assinatura</td>\n",
       "      <td>1</td>\n",
       "      <td>1</td>\n",
       "      <td>lkvihri svsnths Ltdk</td>\n",
       "      <td>Brasil</td>\n",
       "    </tr>\n",
       "    <tr>\n",
       "      <th>2</th>\n",
       "      <td>HP3</td>\n",
       "      <td>Boleto impresso</td>\n",
       "      <td>28/06/2021 18:46:29</td>\n",
       "      <td>3</td>\n",
       "      <td>Experiência Vip</td>\n",
       "      <td>19.1</td>\n",
       "      <td>0.0</td>\n",
       "      <td>15.7</td>\n",
       "      <td>(none)</td>\n",
       "      <td>3</td>\n",
       "      <td>...</td>\n",
       "      <td>15.3</td>\n",
       "      <td>13.13</td>\n",
       "      <td>Produtor</td>\n",
       "      <td>13.13</td>\n",
       "      <td>Boleto Bancário</td>\n",
       "      <td>À vista</td>\n",
       "      <td>1</td>\n",
       "      <td>1</td>\n",
       "      <td>Tsrssk tkrik Silvk Luiz</td>\n",
       "      <td>Brasil</td>\n",
       "    </tr>\n",
       "    <tr>\n",
       "      <th>3</th>\n",
       "      <td>HP4</td>\n",
       "      <td>Boleto impresso</td>\n",
       "      <td>28/06/2021 17:28:04</td>\n",
       "      <td>4</td>\n",
       "      <td>(none)</td>\n",
       "      <td>191.0</td>\n",
       "      <td>0.0</td>\n",
       "      <td>157.0</td>\n",
       "      <td>(none)</td>\n",
       "      <td>4</td>\n",
       "      <td>...</td>\n",
       "      <td>153.0</td>\n",
       "      <td>186.54</td>\n",
       "      <td>Produtor</td>\n",
       "      <td>186.54</td>\n",
       "      <td>Boleto Bancário</td>\n",
       "      <td>À vista</td>\n",
       "      <td>1</td>\n",
       "      <td>1</td>\n",
       "      <td>knthnink nikifhrhff</td>\n",
       "      <td>Brasil</td>\n",
       "    </tr>\n",
       "    <tr>\n",
       "      <th>4</th>\n",
       "      <td>HP5</td>\n",
       "      <td>Boleto impresso</td>\n",
       "      <td>28/06/2021 17:27:21</td>\n",
       "      <td>5</td>\n",
       "      <td>Condição Única</td>\n",
       "      <td>119.0</td>\n",
       "      <td>0.0</td>\n",
       "      <td>145.0</td>\n",
       "      <td>(none)</td>\n",
       "      <td>2</td>\n",
       "      <td>...</td>\n",
       "      <td>145.0</td>\n",
       "      <td>140.85</td>\n",
       "      <td>Produtor</td>\n",
       "      <td>140.85</td>\n",
       "      <td>Boleto Bancário</td>\n",
       "      <td>Assinatura</td>\n",
       "      <td>1</td>\n",
       "      <td>1</td>\n",
       "      <td>knthnink nikifhrhff</td>\n",
       "      <td>Brasil</td>\n",
       "    </tr>\n",
       "  </tbody>\n",
       "</table>\n",
       "<p>5 rows × 25 columns</p>\n",
       "</div>"
      ],
      "text/plain": [
       "  Código da transação Status da transação    Data da transação  \\\n",
       "0                 HP1            Aprovado  28/06/2021 19:21:25   \n",
       "1                 HP2            Aprovado  28/06/2021 19:12:22   \n",
       "2                 HP3     Boleto impresso  28/06/2021 18:46:29   \n",
       "3                 HP4     Boleto impresso  28/06/2021 17:28:04   \n",
       "4                 HP5     Boleto impresso  28/06/2021 17:27:21   \n",
       "\n",
       "   Código do preço                               Nome deste preço  \\\n",
       "0                1  Preço Especial Iluminismo Financeiro - Cartão   \n",
       "1                2                    Yampa - Oferta plano mensal   \n",
       "2                3                                Experiência Vip   \n",
       "3                4                                         (none)   \n",
       "4                5                                 Condição Única   \n",
       "\n",
       "   Valor de compra com impostos  Impostos locais de compra  \\\n",
       "0                        1110.0                      443.4   \n",
       "1                          19.9                        0.0   \n",
       "2                          19.1                        0.0   \n",
       "3                         191.0                        0.0   \n",
       "4                         119.0                        0.0   \n",
       "\n",
       "   Valor de compra sem impostos Confirmação do pagamento  Código do produto  \\\n",
       "0                        4154.1      28/06/2021 19:21:27                  1   \n",
       "1                          45.5      28/06/2021 19:12:23                  2   \n",
       "2                          15.7                   (none)                  3   \n",
       "3                         157.0                   (none)                  4   \n",
       "4                         145.0                   (none)                  2   \n",
       "\n",
       "   ... Comissão bruta (sem impostos)  Minha comissão Venda feita como  \\\n",
       "0  ...                        6156.1         5551.58         Produtor   \n",
       "1  ...                          45.5           46.50         Produtor   \n",
       "2  ...                          15.3           13.13         Produtor   \n",
       "3  ...                         153.0          186.54         Produtor   \n",
       "4  ...                         145.0          140.85         Produtor   \n",
       "\n",
       "   Comissão do(a) Produtor(a) Método de pagamento  \\\n",
       "0                     5551.58   Cartão de Crédito   \n",
       "1                       46.50   Cartão de Crédito   \n",
       "2                       13.13     Boleto Bancário   \n",
       "3                      186.54     Boleto Bancário   \n",
       "4                      140.85     Boleto Bancário   \n",
       "\n",
       "                       Tipo de cobrança  Quantidade total de parcelas  \\\n",
       "0  Parcelamento (juros para o Produtor)                            12   \n",
       "1                            Assinatura                             1   \n",
       "2                               À vista                             1   \n",
       "3                               À vista                             1   \n",
       "4                            Assinatura                             1   \n",
       "\n",
       "  Quantidade de itens             Comprador(a)    País  \n",
       "0                   1       Yhkh pkulh gkstknh  Brasil  \n",
       "1                   1     lkvihri svsnths Ltdk  Brasil  \n",
       "2                   1  Tsrssk tkrik Silvk Luiz  Brasil  \n",
       "3                   1      knthnink nikifhrhff  Brasil  \n",
       "4                   1      knthnink nikifhrhff  Brasil  \n",
       "\n",
       "[5 rows x 25 columns]"
      ]
     },
     "execution_count": 21,
     "metadata": {},
     "output_type": "execute_result"
    }
   ],
   "source": [
    "df2.head()"
   ]
  },
  {
   "cell_type": "markdown",
   "metadata": {},
   "source": [
    "Analisando a coluna 'Canal usado para venda' para verificar se possui valores importantes"
   ]
  },
  {
   "cell_type": "code",
   "execution_count": 22,
   "metadata": {},
   "outputs": [
    {
     "data": {
      "text/plain": [
       "13020"
      ]
     },
     "execution_count": 22,
     "metadata": {},
     "output_type": "execute_result"
    }
   ],
   "source": [
    "(df['Canal usado para venda'] == '(none)').sum() # todos os valors none"
   ]
  },
  {
   "cell_type": "markdown",
   "metadata": {},
   "source": [
    "### Analise de dados de Status de transação aprovados"
   ]
  },
  {
   "cell_type": "markdown",
   "metadata": {},
   "source": [
    "Cada um dos status poderia gerar um relatorio"
   ]
  },
  {
   "cell_type": "code",
   "execution_count": 426,
   "metadata": {},
   "outputs": [
    {
     "data": {
      "text/plain": [
       "array(['Aprovado', 'Boleto impresso', 'Atrasado', 'Aguardando Pagto',\n",
       "       'Cancelado', 'Reclamado', 'Expirado', 'Reembolsado', 'Completo',\n",
       "       'Chargeback', 'Iniciada'], dtype=object)"
      ]
     },
     "execution_count": 426,
     "metadata": {},
     "output_type": "execute_result"
    }
   ],
   "source": [
    "# Olhando os tipos categoricos dos dados\n",
    "df2['Status da transação'].unique()"
   ]
  },
  {
   "cell_type": "code",
   "execution_count": 24,
   "metadata": {},
   "outputs": [],
   "source": [
    "df_transacao_aprovado = df2[df2['Status da transação'] == 'Aprovado']"
   ]
  },
  {
   "cell_type": "code",
   "execution_count": 439,
   "metadata": {},
   "outputs": [],
   "source": [
    "df_transacao_aprovado.to_csv('transacao_aprovado.csv',sep=';')"
   ]
  },
  {
   "cell_type": "code",
   "execution_count": 25,
   "metadata": {},
   "outputs": [
    {
     "data": {
      "text/html": [
       "<div>\n",
       "<style scoped>\n",
       "    .dataframe tbody tr th:only-of-type {\n",
       "        vertical-align: middle;\n",
       "    }\n",
       "\n",
       "    .dataframe tbody tr th {\n",
       "        vertical-align: top;\n",
       "    }\n",
       "\n",
       "    .dataframe thead th {\n",
       "        text-align: right;\n",
       "    }\n",
       "</style>\n",
       "<table border=\"1\" class=\"dataframe\">\n",
       "  <thead>\n",
       "    <tr style=\"text-align: right;\">\n",
       "      <th></th>\n",
       "      <th>Código da transação</th>\n",
       "      <th>Status da transação</th>\n",
       "      <th>Data da transação</th>\n",
       "      <th>Código do preço</th>\n",
       "      <th>Nome deste preço</th>\n",
       "      <th>Valor de compra com impostos</th>\n",
       "      <th>Impostos locais de compra</th>\n",
       "      <th>Valor de compra sem impostos</th>\n",
       "      <th>Confirmação do pagamento</th>\n",
       "      <th>Código do produto</th>\n",
       "      <th>...</th>\n",
       "      <th>Comissão bruta (sem impostos)</th>\n",
       "      <th>Minha comissão</th>\n",
       "      <th>Venda feita como</th>\n",
       "      <th>Comissão do(a) Produtor(a)</th>\n",
       "      <th>Método de pagamento</th>\n",
       "      <th>Tipo de cobrança</th>\n",
       "      <th>Quantidade total de parcelas</th>\n",
       "      <th>Quantidade de itens</th>\n",
       "      <th>Comprador(a)</th>\n",
       "      <th>País</th>\n",
       "    </tr>\n",
       "  </thead>\n",
       "  <tbody>\n",
       "    <tr>\n",
       "      <th>0</th>\n",
       "      <td>HP1</td>\n",
       "      <td>Aprovado</td>\n",
       "      <td>28/06/2021 19:21:25</td>\n",
       "      <td>1</td>\n",
       "      <td>Preço Especial Iluminismo Financeiro - Cartão</td>\n",
       "      <td>1110.0</td>\n",
       "      <td>443.4</td>\n",
       "      <td>4154.1</td>\n",
       "      <td>28/06/2021 19:21:27</td>\n",
       "      <td>1</td>\n",
       "      <td>...</td>\n",
       "      <td>6156.1</td>\n",
       "      <td>5551.58</td>\n",
       "      <td>Produtor</td>\n",
       "      <td>5551.58</td>\n",
       "      <td>Cartão de Crédito</td>\n",
       "      <td>Parcelamento (juros para o Produtor)</td>\n",
       "      <td>12</td>\n",
       "      <td>1</td>\n",
       "      <td>Yhkh pkulh gkstknh</td>\n",
       "      <td>Brasil</td>\n",
       "    </tr>\n",
       "    <tr>\n",
       "      <th>1</th>\n",
       "      <td>HP2</td>\n",
       "      <td>Aprovado</td>\n",
       "      <td>28/06/2021 19:12:22</td>\n",
       "      <td>2</td>\n",
       "      <td>Yampa - Oferta plano mensal</td>\n",
       "      <td>19.9</td>\n",
       "      <td>0.0</td>\n",
       "      <td>45.5</td>\n",
       "      <td>28/06/2021 19:12:23</td>\n",
       "      <td>2</td>\n",
       "      <td>...</td>\n",
       "      <td>45.5</td>\n",
       "      <td>46.50</td>\n",
       "      <td>Produtor</td>\n",
       "      <td>46.50</td>\n",
       "      <td>Cartão de Crédito</td>\n",
       "      <td>Assinatura</td>\n",
       "      <td>1</td>\n",
       "      <td>1</td>\n",
       "      <td>lkvihri svsnths Ltdk</td>\n",
       "      <td>Brasil</td>\n",
       "    </tr>\n",
       "    <tr>\n",
       "      <th>6</th>\n",
       "      <td>HP7</td>\n",
       "      <td>Aprovado</td>\n",
       "      <td>28/06/2021 17:23:14</td>\n",
       "      <td>2</td>\n",
       "      <td>Yampa - Oferta plano mensal</td>\n",
       "      <td>19.9</td>\n",
       "      <td>0.0</td>\n",
       "      <td>45.5</td>\n",
       "      <td>28/06/2021 17:23:16</td>\n",
       "      <td>2</td>\n",
       "      <td>...</td>\n",
       "      <td>45.5</td>\n",
       "      <td>46.50</td>\n",
       "      <td>Produtor</td>\n",
       "      <td>46.50</td>\n",
       "      <td>Cartão de Crédito</td>\n",
       "      <td>Assinatura</td>\n",
       "      <td>1</td>\n",
       "      <td>1</td>\n",
       "      <td>V kltsidk Titth stprssditsnths Ithlilikrihs</td>\n",
       "      <td>Brasil</td>\n",
       "    </tr>\n",
       "    <tr>\n",
       "      <th>7</th>\n",
       "      <td>HP8</td>\n",
       "      <td>Aprovado</td>\n",
       "      <td>28/06/2021 17:21:28</td>\n",
       "      <td>6</td>\n",
       "      <td>Yampa - Oferta plano anual</td>\n",
       "      <td>150.0</td>\n",
       "      <td>0.0</td>\n",
       "      <td>450.0</td>\n",
       "      <td>28/06/2021 17:21:30</td>\n",
       "      <td>2</td>\n",
       "      <td>...</td>\n",
       "      <td>450.0</td>\n",
       "      <td>413.40</td>\n",
       "      <td>Produtor</td>\n",
       "      <td>413.40</td>\n",
       "      <td>Cartão de Crédito</td>\n",
       "      <td>Assinatura</td>\n",
       "      <td>1</td>\n",
       "      <td>1</td>\n",
       "      <td>Ystssshn litk dk silvk</td>\n",
       "      <td>Brasil</td>\n",
       "    </tr>\n",
       "    <tr>\n",
       "      <th>9</th>\n",
       "      <td>HP10</td>\n",
       "      <td>Aprovado</td>\n",
       "      <td>28/06/2021 17:18:29</td>\n",
       "      <td>3</td>\n",
       "      <td>Experiência Vip</td>\n",
       "      <td>19.1</td>\n",
       "      <td>0.0</td>\n",
       "      <td>15.7</td>\n",
       "      <td>28/06/2021 17:22:14</td>\n",
       "      <td>3</td>\n",
       "      <td>...</td>\n",
       "      <td>15.3</td>\n",
       "      <td>13.13</td>\n",
       "      <td>Produtor</td>\n",
       "      <td>13.13</td>\n",
       "      <td>Pix</td>\n",
       "      <td>À vista</td>\n",
       "      <td>1</td>\n",
       "      <td>1</td>\n",
       "      <td>tkikrk ds gkssik ghngsiçkh ds shuzk</td>\n",
       "      <td>Brasil</td>\n",
       "    </tr>\n",
       "  </tbody>\n",
       "</table>\n",
       "<p>5 rows × 25 columns</p>\n",
       "</div>"
      ],
      "text/plain": [
       "  Código da transação Status da transação    Data da transação  \\\n",
       "0                 HP1            Aprovado  28/06/2021 19:21:25   \n",
       "1                 HP2            Aprovado  28/06/2021 19:12:22   \n",
       "6                 HP7            Aprovado  28/06/2021 17:23:14   \n",
       "7                 HP8            Aprovado  28/06/2021 17:21:28   \n",
       "9                HP10            Aprovado  28/06/2021 17:18:29   \n",
       "\n",
       "   Código do preço                               Nome deste preço  \\\n",
       "0                1  Preço Especial Iluminismo Financeiro - Cartão   \n",
       "1                2                    Yampa - Oferta plano mensal   \n",
       "6                2                    Yampa - Oferta plano mensal   \n",
       "7                6                     Yampa - Oferta plano anual   \n",
       "9                3                                Experiência Vip   \n",
       "\n",
       "   Valor de compra com impostos  Impostos locais de compra  \\\n",
       "0                        1110.0                      443.4   \n",
       "1                          19.9                        0.0   \n",
       "6                          19.9                        0.0   \n",
       "7                         150.0                        0.0   \n",
       "9                          19.1                        0.0   \n",
       "\n",
       "   Valor de compra sem impostos Confirmação do pagamento  Código do produto  \\\n",
       "0                        4154.1      28/06/2021 19:21:27                  1   \n",
       "1                          45.5      28/06/2021 19:12:23                  2   \n",
       "6                          45.5      28/06/2021 17:23:16                  2   \n",
       "7                         450.0      28/06/2021 17:21:30                  2   \n",
       "9                          15.7      28/06/2021 17:22:14                  3   \n",
       "\n",
       "   ... Comissão bruta (sem impostos)  Minha comissão Venda feita como  \\\n",
       "0  ...                        6156.1         5551.58         Produtor   \n",
       "1  ...                          45.5           46.50         Produtor   \n",
       "6  ...                          45.5           46.50         Produtor   \n",
       "7  ...                         450.0          413.40         Produtor   \n",
       "9  ...                          15.3           13.13         Produtor   \n",
       "\n",
       "   Comissão do(a) Produtor(a) Método de pagamento  \\\n",
       "0                     5551.58   Cartão de Crédito   \n",
       "1                       46.50   Cartão de Crédito   \n",
       "6                       46.50   Cartão de Crédito   \n",
       "7                      413.40   Cartão de Crédito   \n",
       "9                       13.13                 Pix   \n",
       "\n",
       "                       Tipo de cobrança  Quantidade total de parcelas  \\\n",
       "0  Parcelamento (juros para o Produtor)                            12   \n",
       "1                            Assinatura                             1   \n",
       "6                            Assinatura                             1   \n",
       "7                            Assinatura                             1   \n",
       "9                               À vista                             1   \n",
       "\n",
       "  Quantidade de itens                                 Comprador(a)    País  \n",
       "0                   1                           Yhkh pkulh gkstknh  Brasil  \n",
       "1                   1                         lkvihri svsnths Ltdk  Brasil  \n",
       "6                   1  V kltsidk Titth stprssditsnths Ithlilikrihs  Brasil  \n",
       "7                   1                       Ystssshn litk dk silvk  Brasil  \n",
       "9                   1          tkikrk ds gkssik ghngsiçkh ds shuzk  Brasil  \n",
       "\n",
       "[5 rows x 25 columns]"
      ]
     },
     "execution_count": 25,
     "metadata": {},
     "output_type": "execute_result"
    }
   ],
   "source": [
    "df_transacao_aprovado.head()"
   ]
  },
  {
   "cell_type": "markdown",
   "metadata": {},
   "source": [
    "## O/a candidato/a deverá construir um dashboard com os seguintes indicadores:"
   ]
  },
  {
   "cell_type": "code",
   "execution_count": 145,
   "metadata": {},
   "outputs": [
    {
     "data": {
      "text/html": [
       "<div>\n",
       "<style scoped>\n",
       "    .dataframe tbody tr th:only-of-type {\n",
       "        vertical-align: middle;\n",
       "    }\n",
       "\n",
       "    .dataframe tbody tr th {\n",
       "        vertical-align: top;\n",
       "    }\n",
       "\n",
       "    .dataframe thead th {\n",
       "        text-align: right;\n",
       "    }\n",
       "</style>\n",
       "<table border=\"1\" class=\"dataframe\">\n",
       "  <thead>\n",
       "    <tr style=\"text-align: right;\">\n",
       "      <th></th>\n",
       "      <th>Código do produto</th>\n",
       "      <th>Produto</th>\n",
       "      <th>Valor de compra sem impostos</th>\n",
       "    </tr>\n",
       "  </thead>\n",
       "  <tbody>\n",
       "    <tr>\n",
       "      <th>0</th>\n",
       "      <td>1</td>\n",
       "      <td>Iluminismo Financeiro 2.1</td>\n",
       "      <td>4154.1</td>\n",
       "    </tr>\n",
       "    <tr>\n",
       "      <th>1</th>\n",
       "      <td>2</td>\n",
       "      <td>yampa - software financeiro da 4blue</td>\n",
       "      <td>45.5</td>\n",
       "    </tr>\n",
       "    <tr>\n",
       "      <th>6</th>\n",
       "      <td>2</td>\n",
       "      <td>yampa - software financeiro da 4blue</td>\n",
       "      <td>45.5</td>\n",
       "    </tr>\n",
       "    <tr>\n",
       "      <th>7</th>\n",
       "      <td>2</td>\n",
       "      <td>yampa - software financeiro da 4blue</td>\n",
       "      <td>450.0</td>\n",
       "    </tr>\n",
       "    <tr>\n",
       "      <th>9</th>\n",
       "      <td>3</td>\n",
       "      <td>Maratona de Finanças - Experiência VIP</td>\n",
       "      <td>15.7</td>\n",
       "    </tr>\n",
       "    <tr>\n",
       "      <th>...</th>\n",
       "      <td>...</td>\n",
       "      <td>...</td>\n",
       "      <td>...</td>\n",
       "    </tr>\n",
       "    <tr>\n",
       "      <th>2638</th>\n",
       "      <td>1</td>\n",
       "      <td>Iluminismo Financeiro 2.1</td>\n",
       "      <td>455.0</td>\n",
       "    </tr>\n",
       "    <tr>\n",
       "      <th>2725</th>\n",
       "      <td>2</td>\n",
       "      <td>yampa - software financeiro da 4blue</td>\n",
       "      <td>145.0</td>\n",
       "    </tr>\n",
       "    <tr>\n",
       "      <th>3762</th>\n",
       "      <td>2</td>\n",
       "      <td>yampa - software financeiro da 4blue</td>\n",
       "      <td>145.0</td>\n",
       "    </tr>\n",
       "    <tr>\n",
       "      <th>3860</th>\n",
       "      <td>2</td>\n",
       "      <td>yampa - software financeiro da 4blue</td>\n",
       "      <td>145.0</td>\n",
       "    </tr>\n",
       "    <tr>\n",
       "      <th>4381</th>\n",
       "      <td>2</td>\n",
       "      <td>yampa - software financeiro da 4blue</td>\n",
       "      <td>145.0</td>\n",
       "    </tr>\n",
       "  </tbody>\n",
       "</table>\n",
       "<p>1516 rows × 3 columns</p>\n",
       "</div>"
      ],
      "text/plain": [
       "      Código do produto                                 Produto  \\\n",
       "0                     1               Iluminismo Financeiro 2.1   \n",
       "1                     2    yampa - software financeiro da 4blue   \n",
       "6                     2    yampa - software financeiro da 4blue   \n",
       "7                     2    yampa - software financeiro da 4blue   \n",
       "9                     3  Maratona de Finanças - Experiência VIP   \n",
       "...                 ...                                     ...   \n",
       "2638                  1               Iluminismo Financeiro 2.1   \n",
       "2725                  2    yampa - software financeiro da 4blue   \n",
       "3762                  2    yampa - software financeiro da 4blue   \n",
       "3860                  2    yampa - software financeiro da 4blue   \n",
       "4381                  2    yampa - software financeiro da 4blue   \n",
       "\n",
       "      Valor de compra sem impostos  \n",
       "0                           4154.1  \n",
       "1                             45.5  \n",
       "6                             45.5  \n",
       "7                            450.0  \n",
       "9                             15.7  \n",
       "...                            ...  \n",
       "2638                         455.0  \n",
       "2725                         145.0  \n",
       "3762                         145.0  \n",
       "3860                         145.0  \n",
       "4381                         145.0  \n",
       "\n",
       "[1516 rows x 3 columns]"
      ]
     },
     "execution_count": 145,
     "metadata": {},
     "output_type": "execute_result"
    }
   ],
   "source": [
    "df_transacao_aprovado_filtrado = df_transacao_aprovado[['Código do produto','Produto','Valor de compra sem impostos']]\n",
    "df_transacao_aprovado_filtrado"
   ]
  },
  {
   "cell_type": "code",
   "execution_count": 441,
   "metadata": {},
   "outputs": [],
   "source": [
    "df_transacao_aprovado_filtrado.to_csv('transacao_aprovado_filtrado.csv',sep=';')"
   ]
  },
  {
   "cell_type": "markdown",
   "metadata": {},
   "source": [
    "Agrupando por produto"
   ]
  },
  {
   "cell_type": "code",
   "execution_count": 307,
   "metadata": {},
   "outputs": [],
   "source": [
    "df_agrupado_produto = df_transacao_aprovado_filtrado.groupby(['Código do produto',\n",
    "                                                            'Produto'\n",
    "                               \n",
    "                                                            ]).sum().sort_values('Valor de compra sem impostos',ascending=False).reset_index()"
   ]
  },
  {
   "cell_type": "code",
   "execution_count": 308,
   "metadata": {},
   "outputs": [
    {
     "data": {
      "text/plain": [
       "(25, 3)"
      ]
     },
     "execution_count": 308,
     "metadata": {},
     "output_type": "execute_result"
    }
   ],
   "source": [
    "df_agrupado_produto.shape"
   ]
  },
  {
   "cell_type": "code",
   "execution_count": 370,
   "metadata": {},
   "outputs": [
    {
     "data": {
      "text/html": [
       "<div>\n",
       "<style scoped>\n",
       "    .dataframe tbody tr th:only-of-type {\n",
       "        vertical-align: middle;\n",
       "    }\n",
       "\n",
       "    .dataframe tbody tr th {\n",
       "        vertical-align: top;\n",
       "    }\n",
       "\n",
       "    .dataframe thead th {\n",
       "        text-align: right;\n",
       "    }\n",
       "</style>\n",
       "<table border=\"1\" class=\"dataframe\">\n",
       "  <thead>\n",
       "    <tr style=\"text-align: right;\">\n",
       "      <th></th>\n",
       "      <th>Código do produto</th>\n",
       "      <th>Produto</th>\n",
       "      <th>Valor de compra sem impostos</th>\n",
       "    </tr>\n",
       "  </thead>\n",
       "  <tbody>\n",
       "    <tr>\n",
       "      <th>0</th>\n",
       "      <td>1</td>\n",
       "      <td>Iluminismo Financeiro 2.1</td>\n",
       "      <td>74866.59</td>\n",
       "    </tr>\n",
       "    <tr>\n",
       "      <th>1</th>\n",
       "      <td>2</td>\n",
       "      <td>yampa - software financeiro da 4blue</td>\n",
       "      <td>64773.00</td>\n",
       "    </tr>\n",
       "    <tr>\n",
       "      <th>2</th>\n",
       "      <td>16</td>\n",
       "      <td>Gestão Financeira Lucrativa 3.0</td>\n",
       "      <td>42689.00</td>\n",
       "    </tr>\n",
       "    <tr>\n",
       "      <th>3</th>\n",
       "      <td>15</td>\n",
       "      <td>Gestão Financeira Lucrativa 1.0</td>\n",
       "      <td>41623.70</td>\n",
       "    </tr>\n",
       "    <tr>\n",
       "      <th>4</th>\n",
       "      <td>13</td>\n",
       "      <td>Curso de Precificação para Produtos e Serviços</td>\n",
       "      <td>16803.16</td>\n",
       "    </tr>\n",
       "  </tbody>\n",
       "</table>\n",
       "</div>"
      ],
      "text/plain": [
       "   Código do produto                                         Produto  \\\n",
       "0                  1                       Iluminismo Financeiro 2.1   \n",
       "1                  2            yampa - software financeiro da 4blue   \n",
       "2                 16                 Gestão Financeira Lucrativa 3.0   \n",
       "3                 15                 Gestão Financeira Lucrativa 1.0   \n",
       "4                 13  Curso de Precificação para Produtos e Serviços   \n",
       "\n",
       "   Valor de compra sem impostos  \n",
       "0                      74866.59  \n",
       "1                      64773.00  \n",
       "2                      42689.00  \n",
       "3                      41623.70  \n",
       "4                      16803.16  "
      ]
     },
     "execution_count": 370,
     "metadata": {},
     "output_type": "execute_result"
    }
   ],
   "source": [
    "df_agrupado_produto.head()"
   ]
  },
  {
   "cell_type": "markdown",
   "metadata": {},
   "source": [
    "#### Top 3 mais produtos em quantidade"
   ]
  },
  {
   "cell_type": "code",
   "execution_count": 444,
   "metadata": {},
   "outputs": [
    {
     "data": {
      "text/html": [
       "<div>\n",
       "<style scoped>\n",
       "    .dataframe tbody tr th:only-of-type {\n",
       "        vertical-align: middle;\n",
       "    }\n",
       "\n",
       "    .dataframe tbody tr th {\n",
       "        vertical-align: top;\n",
       "    }\n",
       "\n",
       "    .dataframe thead th {\n",
       "        text-align: right;\n",
       "    }\n",
       "</style>\n",
       "<table border=\"1\" class=\"dataframe\">\n",
       "  <thead>\n",
       "    <tr style=\"text-align: right;\">\n",
       "      <th></th>\n",
       "      <th>Código do produto</th>\n",
       "      <th>Produto</th>\n",
       "      <th>0</th>\n",
       "    </tr>\n",
       "  </thead>\n",
       "  <tbody>\n",
       "    <tr>\n",
       "      <th>0</th>\n",
       "      <td>2</td>\n",
       "      <td>yampa - software financeiro da 4blue</td>\n",
       "      <td>1082</td>\n",
       "    </tr>\n",
       "    <tr>\n",
       "      <th>1</th>\n",
       "      <td>3</td>\n",
       "      <td>Maratona de Finanças - Experiência VIP</td>\n",
       "      <td>95</td>\n",
       "    </tr>\n",
       "    <tr>\n",
       "      <th>2</th>\n",
       "      <td>16</td>\n",
       "      <td>Gestão Financeira Lucrativa 3.0</td>\n",
       "      <td>77</td>\n",
       "    </tr>\n",
       "    <tr>\n",
       "      <th>3</th>\n",
       "      <td>13</td>\n",
       "      <td>Curso de Precificação para Produtos e Serviços</td>\n",
       "      <td>58</td>\n",
       "    </tr>\n",
       "    <tr>\n",
       "      <th>4</th>\n",
       "      <td>1</td>\n",
       "      <td>Iluminismo Financeiro 2.1</td>\n",
       "      <td>57</td>\n",
       "    </tr>\n",
       "  </tbody>\n",
       "</table>\n",
       "</div>"
      ],
      "text/plain": [
       "   Código do produto                                         Produto     0\n",
       "0                  2            yampa - software financeiro da 4blue  1082\n",
       "1                  3          Maratona de Finanças - Experiência VIP    95\n",
       "2                 16                 Gestão Financeira Lucrativa 3.0    77\n",
       "3                 13  Curso de Precificação para Produtos e Serviços    58\n",
       "4                  1                       Iluminismo Financeiro 2.1    57"
      ]
     },
     "execution_count": 444,
     "metadata": {},
     "output_type": "execute_result"
    }
   ],
   "source": [
    "df_top3_quantidade = df_transacao_aprovado[['Código do produto','Produto']].value_counts().reset_index()\n",
    "df_top3_quantidade.head()"
   ]
  },
  {
   "cell_type": "code",
   "execution_count": 445,
   "metadata": {},
   "outputs": [],
   "source": [
    "df_top3_quantidade.to_csv('top3_quantidade.csv',sep=';')"
   ]
  },
  {
   "cell_type": "code",
   "execution_count": 324,
   "metadata": {},
   "outputs": [
    {
     "data": {
      "text/plain": [
       "(25, 3)"
      ]
     },
     "execution_count": 324,
     "metadata": {},
     "output_type": "execute_result"
    }
   ],
   "source": [
    "df_top3_quantidade.shape"
   ]
  },
  {
   "cell_type": "markdown",
   "metadata": {},
   "source": [
    "#### Top 3 em valores"
   ]
  },
  {
   "cell_type": "code",
   "execution_count": 241,
   "metadata": {},
   "outputs": [
    {
     "data": {
      "text/html": [
       "<div>\n",
       "<style scoped>\n",
       "    .dataframe tbody tr th:only-of-type {\n",
       "        vertical-align: middle;\n",
       "    }\n",
       "\n",
       "    .dataframe tbody tr th {\n",
       "        vertical-align: top;\n",
       "    }\n",
       "\n",
       "    .dataframe thead th {\n",
       "        text-align: right;\n",
       "    }\n",
       "</style>\n",
       "<table border=\"1\" class=\"dataframe\">\n",
       "  <thead>\n",
       "    <tr style=\"text-align: right;\">\n",
       "      <th></th>\n",
       "      <th>Código do produto</th>\n",
       "      <th>Produto</th>\n",
       "      <th>Valor de compra sem impostos</th>\n",
       "    </tr>\n",
       "  </thead>\n",
       "  <tbody>\n",
       "    <tr>\n",
       "      <th>0</th>\n",
       "      <td>1</td>\n",
       "      <td>Iluminismo Financeiro 2.1</td>\n",
       "      <td>74866.59</td>\n",
       "    </tr>\n",
       "    <tr>\n",
       "      <th>1</th>\n",
       "      <td>2</td>\n",
       "      <td>yampa - software financeiro da 4blue</td>\n",
       "      <td>64773.00</td>\n",
       "    </tr>\n",
       "    <tr>\n",
       "      <th>2</th>\n",
       "      <td>16</td>\n",
       "      <td>Gestão Financeira Lucrativa 3.0</td>\n",
       "      <td>42689.00</td>\n",
       "    </tr>\n",
       "    <tr>\n",
       "      <th>3</th>\n",
       "      <td>15</td>\n",
       "      <td>Gestão Financeira Lucrativa 1.0</td>\n",
       "      <td>41623.70</td>\n",
       "    </tr>\n",
       "    <tr>\n",
       "      <th>4</th>\n",
       "      <td>13</td>\n",
       "      <td>Curso de Precificação para Produtos e Serviços</td>\n",
       "      <td>16803.16</td>\n",
       "    </tr>\n",
       "  </tbody>\n",
       "</table>\n",
       "</div>"
      ],
      "text/plain": [
       "   Código do produto                                         Produto  \\\n",
       "0                  1                       Iluminismo Financeiro 2.1   \n",
       "1                  2            yampa - software financeiro da 4blue   \n",
       "2                 16                 Gestão Financeira Lucrativa 3.0   \n",
       "3                 15                 Gestão Financeira Lucrativa 1.0   \n",
       "4                 13  Curso de Precificação para Produtos e Serviços   \n",
       "\n",
       "   Valor de compra sem impostos  \n",
       "0                      74866.59  \n",
       "1                      64773.00  \n",
       "2                      42689.00  \n",
       "3                      41623.70  \n",
       "4                      16803.16  "
      ]
     },
     "execution_count": 241,
     "metadata": {},
     "output_type": "execute_result"
    }
   ],
   "source": [
    "df_agrupado_produto.head()"
   ]
  },
  {
   "cell_type": "code",
   "execution_count": 446,
   "metadata": {},
   "outputs": [],
   "source": [
    "df_agrupado_produto.to_csv('Top3_valores_agrupado_produto.csv',sep=';')"
   ]
  },
  {
   "cell_type": "markdown",
   "metadata": {},
   "source": [
    "#### Preço médio geral"
   ]
  },
  {
   "cell_type": "code",
   "execution_count": 313,
   "metadata": {},
   "outputs": [],
   "source": [
    "df_preco_medio_com_imposto = df_transacao_aprovado[['Código do produto','Produto','Valor de compra com impostos']]"
   ]
  },
  {
   "cell_type": "code",
   "execution_count": 317,
   "metadata": {},
   "outputs": [
    {
     "data": {
      "text/html": [
       "<div>\n",
       "<style scoped>\n",
       "    .dataframe tbody tr th:only-of-type {\n",
       "        vertical-align: middle;\n",
       "    }\n",
       "\n",
       "    .dataframe tbody tr th {\n",
       "        vertical-align: top;\n",
       "    }\n",
       "\n",
       "    .dataframe thead th {\n",
       "        text-align: right;\n",
       "    }\n",
       "</style>\n",
       "<table border=\"1\" class=\"dataframe\">\n",
       "  <thead>\n",
       "    <tr style=\"text-align: right;\">\n",
       "      <th></th>\n",
       "      <th>Código do produto</th>\n",
       "      <th>Produto</th>\n",
       "      <th>Valor de compra com impostos</th>\n",
       "    </tr>\n",
       "  </thead>\n",
       "  <tbody>\n",
       "    <tr>\n",
       "      <th>0</th>\n",
       "      <td>1</td>\n",
       "      <td>Iluminismo Financeiro 2.1</td>\n",
       "      <td>1110.0</td>\n",
       "    </tr>\n",
       "    <tr>\n",
       "      <th>1</th>\n",
       "      <td>2</td>\n",
       "      <td>yampa - software financeiro da 4blue</td>\n",
       "      <td>19.9</td>\n",
       "    </tr>\n",
       "    <tr>\n",
       "      <th>6</th>\n",
       "      <td>2</td>\n",
       "      <td>yampa - software financeiro da 4blue</td>\n",
       "      <td>19.9</td>\n",
       "    </tr>\n",
       "    <tr>\n",
       "      <th>7</th>\n",
       "      <td>2</td>\n",
       "      <td>yampa - software financeiro da 4blue</td>\n",
       "      <td>150.0</td>\n",
       "    </tr>\n",
       "    <tr>\n",
       "      <th>9</th>\n",
       "      <td>3</td>\n",
       "      <td>Maratona de Finanças - Experiência VIP</td>\n",
       "      <td>19.1</td>\n",
       "    </tr>\n",
       "  </tbody>\n",
       "</table>\n",
       "</div>"
      ],
      "text/plain": [
       "   Código do produto                                 Produto  \\\n",
       "0                  1               Iluminismo Financeiro 2.1   \n",
       "1                  2    yampa - software financeiro da 4blue   \n",
       "6                  2    yampa - software financeiro da 4blue   \n",
       "7                  2    yampa - software financeiro da 4blue   \n",
       "9                  3  Maratona de Finanças - Experiência VIP   \n",
       "\n",
       "   Valor de compra com impostos  \n",
       "0                        1110.0  \n",
       "1                          19.9  \n",
       "6                          19.9  \n",
       "7                         150.0  \n",
       "9                          19.1  "
      ]
     },
     "execution_count": 317,
     "metadata": {},
     "output_type": "execute_result"
    }
   ],
   "source": [
    "df_preco_medio_com_imposto.head()"
   ]
  },
  {
   "cell_type": "code",
   "execution_count": 325,
   "metadata": {},
   "outputs": [
    {
     "data": {
      "text/plain": [
       "(1516, 3)"
      ]
     },
     "execution_count": 325,
     "metadata": {},
     "output_type": "execute_result"
    }
   ],
   "source": [
    "df_preco_medio_com_imposto.shape"
   ]
  },
  {
   "cell_type": "code",
   "execution_count": 318,
   "metadata": {},
   "outputs": [
    {
     "data": {
      "text/html": [
       "<div>\n",
       "<style scoped>\n",
       "    .dataframe tbody tr th:only-of-type {\n",
       "        vertical-align: middle;\n",
       "    }\n",
       "\n",
       "    .dataframe tbody tr th {\n",
       "        vertical-align: top;\n",
       "    }\n",
       "\n",
       "    .dataframe thead th {\n",
       "        text-align: right;\n",
       "    }\n",
       "</style>\n",
       "<table border=\"1\" class=\"dataframe\">\n",
       "  <thead>\n",
       "    <tr style=\"text-align: right;\">\n",
       "      <th></th>\n",
       "      <th>Código do produto</th>\n",
       "      <th>Produto</th>\n",
       "      <th>Valor de compra com impostos</th>\n",
       "    </tr>\n",
       "  </thead>\n",
       "  <tbody>\n",
       "    <tr>\n",
       "      <th>0</th>\n",
       "      <td>16</td>\n",
       "      <td>Gestão Financeira Lucrativa 3.0</td>\n",
       "      <td>65049.28</td>\n",
       "    </tr>\n",
       "    <tr>\n",
       "      <th>1</th>\n",
       "      <td>1</td>\n",
       "      <td>Iluminismo Financeiro 2.1</td>\n",
       "      <td>64748.01</td>\n",
       "    </tr>\n",
       "    <tr>\n",
       "      <th>2</th>\n",
       "      <td>2</td>\n",
       "      <td>yampa - software financeiro da 4blue</td>\n",
       "      <td>40443.22</td>\n",
       "    </tr>\n",
       "    <tr>\n",
       "      <th>3</th>\n",
       "      <td>15</td>\n",
       "      <td>Gestão Financeira Lucrativa 1.0</td>\n",
       "      <td>35901.68</td>\n",
       "    </tr>\n",
       "    <tr>\n",
       "      <th>4</th>\n",
       "      <td>13</td>\n",
       "      <td>Curso de Precificação para Produtos e Serviços</td>\n",
       "      <td>12033.68</td>\n",
       "    </tr>\n",
       "  </tbody>\n",
       "</table>\n",
       "</div>"
      ],
      "text/plain": [
       "   Código do produto                                         Produto  \\\n",
       "0                 16                 Gestão Financeira Lucrativa 3.0   \n",
       "1                  1                       Iluminismo Financeiro 2.1   \n",
       "2                  2            yampa - software financeiro da 4blue   \n",
       "3                 15                 Gestão Financeira Lucrativa 1.0   \n",
       "4                 13  Curso de Precificação para Produtos e Serviços   \n",
       "\n",
       "   Valor de compra com impostos  \n",
       "0                      65049.28  \n",
       "1                      64748.01  \n",
       "2                      40443.22  \n",
       "3                      35901.68  \n",
       "4                      12033.68  "
      ]
     },
     "execution_count": 318,
     "metadata": {},
     "output_type": "execute_result"
    }
   ],
   "source": [
    "df_media = df_preco_medio_geral.groupby(['Código do produto','Produto']).sum().sort_values('Valor de compra com impostos',ascending=False).reset_index()\n",
    "df_media.head()\n"
   ]
  },
  {
   "cell_type": "code",
   "execution_count": 326,
   "metadata": {},
   "outputs": [
    {
     "data": {
      "text/plain": [
       "(25, 3)"
      ]
     },
     "execution_count": 326,
     "metadata": {},
     "output_type": "execute_result"
    }
   ],
   "source": [
    "df_media.shape"
   ]
  },
  {
   "cell_type": "code",
   "execution_count": null,
   "metadata": {},
   "outputs": [],
   "source": [
    "df_media2 = df_media['Valor de compra com impostos'].apply(lambda x:)"
   ]
  },
  {
   "cell_type": "markdown",
   "metadata": {},
   "source": [
    "Criando a coluna de média"
   ]
  },
  {
   "cell_type": "code",
   "execution_count": 347,
   "metadata": {},
   "outputs": [
    {
     "data": {
      "text/html": [
       "<div>\n",
       "<style scoped>\n",
       "    .dataframe tbody tr th:only-of-type {\n",
       "        vertical-align: middle;\n",
       "    }\n",
       "\n",
       "    .dataframe tbody tr th {\n",
       "        vertical-align: top;\n",
       "    }\n",
       "\n",
       "    .dataframe thead th {\n",
       "        text-align: right;\n",
       "    }\n",
       "</style>\n",
       "<table border=\"1\" class=\"dataframe\">\n",
       "  <thead>\n",
       "    <tr style=\"text-align: right;\">\n",
       "      <th></th>\n",
       "      <th>Código do produto</th>\n",
       "      <th>0</th>\n",
       "    </tr>\n",
       "  </thead>\n",
       "  <tbody>\n",
       "    <tr>\n",
       "      <th>0</th>\n",
       "      <td>2</td>\n",
       "      <td>1082</td>\n",
       "    </tr>\n",
       "    <tr>\n",
       "      <th>1</th>\n",
       "      <td>3</td>\n",
       "      <td>95</td>\n",
       "    </tr>\n",
       "    <tr>\n",
       "      <th>2</th>\n",
       "      <td>16</td>\n",
       "      <td>77</td>\n",
       "    </tr>\n",
       "    <tr>\n",
       "      <th>3</th>\n",
       "      <td>13</td>\n",
       "      <td>58</td>\n",
       "    </tr>\n",
       "    <tr>\n",
       "      <th>4</th>\n",
       "      <td>1</td>\n",
       "      <td>57</td>\n",
       "    </tr>\n",
       "  </tbody>\n",
       "</table>\n",
       "</div>"
      ],
      "text/plain": [
       "   Código do produto     0\n",
       "0                  2  1082\n",
       "1                  3    95\n",
       "2                 16    77\n",
       "3                 13    58\n",
       "4                  1    57"
      ]
     },
     "execution_count": 347,
     "metadata": {},
     "output_type": "execute_result"
    }
   ],
   "source": [
    "#DataFrame com valores de repetiçoes para realizar o calculo\n",
    "df_produto_compras = df_transacao_aprovado[['Código do produto']].value_counts().reset_index()\n",
    "df_produto_compras.head()"
   ]
  },
  {
   "cell_type": "code",
   "execution_count": 351,
   "metadata": {},
   "outputs": [],
   "source": [
    "df_com_imposto_media = pd.merge(df_media,df_produto_compras,how='outer')"
   ]
  },
  {
   "cell_type": "code",
   "execution_count": 353,
   "metadata": {},
   "outputs": [
    {
     "data": {
      "text/html": [
       "<div>\n",
       "<style scoped>\n",
       "    .dataframe tbody tr th:only-of-type {\n",
       "        vertical-align: middle;\n",
       "    }\n",
       "\n",
       "    .dataframe tbody tr th {\n",
       "        vertical-align: top;\n",
       "    }\n",
       "\n",
       "    .dataframe thead th {\n",
       "        text-align: right;\n",
       "    }\n",
       "</style>\n",
       "<table border=\"1\" class=\"dataframe\">\n",
       "  <thead>\n",
       "    <tr style=\"text-align: right;\">\n",
       "      <th></th>\n",
       "      <th>Código do produto</th>\n",
       "      <th>Produto</th>\n",
       "      <th>Valor de compra com impostos</th>\n",
       "      <th>0</th>\n",
       "    </tr>\n",
       "  </thead>\n",
       "  <tbody>\n",
       "    <tr>\n",
       "      <th>0</th>\n",
       "      <td>16</td>\n",
       "      <td>Gestão Financeira Lucrativa 3.0</td>\n",
       "      <td>65049.28</td>\n",
       "      <td>77</td>\n",
       "    </tr>\n",
       "    <tr>\n",
       "      <th>1</th>\n",
       "      <td>1</td>\n",
       "      <td>Iluminismo Financeiro 2.1</td>\n",
       "      <td>64748.01</td>\n",
       "      <td>57</td>\n",
       "    </tr>\n",
       "    <tr>\n",
       "      <th>2</th>\n",
       "      <td>2</td>\n",
       "      <td>yampa - software financeiro da 4blue</td>\n",
       "      <td>40443.22</td>\n",
       "      <td>1082</td>\n",
       "    </tr>\n",
       "    <tr>\n",
       "      <th>3</th>\n",
       "      <td>15</td>\n",
       "      <td>Gestão Financeira Lucrativa 1.0</td>\n",
       "      <td>35901.68</td>\n",
       "      <td>55</td>\n",
       "    </tr>\n",
       "    <tr>\n",
       "      <th>4</th>\n",
       "      <td>13</td>\n",
       "      <td>Curso de Precificação para Produtos e Serviços</td>\n",
       "      <td>12033.68</td>\n",
       "      <td>58</td>\n",
       "    </tr>\n",
       "  </tbody>\n",
       "</table>\n",
       "</div>"
      ],
      "text/plain": [
       "   Código do produto                                         Produto  \\\n",
       "0                 16                 Gestão Financeira Lucrativa 3.0   \n",
       "1                  1                       Iluminismo Financeiro 2.1   \n",
       "2                  2            yampa - software financeiro da 4blue   \n",
       "3                 15                 Gestão Financeira Lucrativa 1.0   \n",
       "4                 13  Curso de Precificação para Produtos e Serviços   \n",
       "\n",
       "   Valor de compra com impostos     0  \n",
       "0                      65049.28    77  \n",
       "1                      64748.01    57  \n",
       "2                      40443.22  1082  \n",
       "3                      35901.68    55  \n",
       "4                      12033.68    58  "
      ]
     },
     "execution_count": 353,
     "metadata": {},
     "output_type": "execute_result"
    }
   ],
   "source": [
    "df_com_imposto_media.head()"
   ]
  },
  {
   "cell_type": "code",
   "execution_count": 358,
   "metadata": {},
   "outputs": [],
   "source": [
    "df_com_imposto_media['media de preços com impostos'] = (df_com_imposto_media['Valor de compra com impostos'])/(df_com_imposto_media[0])"
   ]
  },
  {
   "cell_type": "code",
   "execution_count": 361,
   "metadata": {},
   "outputs": [],
   "source": [
    "df_com_imposto_media_final = df_com_imposto_media"
   ]
  },
  {
   "cell_type": "code",
   "execution_count": 362,
   "metadata": {},
   "outputs": [],
   "source": [
    "del df_com_imposto_media_final[0]"
   ]
  },
  {
   "cell_type": "code",
   "execution_count": 364,
   "metadata": {},
   "outputs": [],
   "source": [
    "del df_com_imposto_media_final['media']"
   ]
  },
  {
   "cell_type": "markdown",
   "metadata": {},
   "source": [
    "## Neste ponde eu busquei a informação mais relevante\n",
    "Em uma situação real, conserteza eu teria uma conversa com a equipe"
   ]
  },
  {
   "cell_type": "code",
   "execution_count": 369,
   "metadata": {},
   "outputs": [
    {
     "data": {
      "text/html": [
       "<div>\n",
       "<style scoped>\n",
       "    .dataframe tbody tr th:only-of-type {\n",
       "        vertical-align: middle;\n",
       "    }\n",
       "\n",
       "    .dataframe tbody tr th {\n",
       "        vertical-align: top;\n",
       "    }\n",
       "\n",
       "    .dataframe thead th {\n",
       "        text-align: right;\n",
       "    }\n",
       "</style>\n",
       "<table border=\"1\" class=\"dataframe\">\n",
       "  <thead>\n",
       "    <tr style=\"text-align: right;\">\n",
       "      <th></th>\n",
       "      <th>Código do produto</th>\n",
       "      <th>Produto</th>\n",
       "      <th>Valor de compra com impostos</th>\n",
       "      <th>media de preços com impostos</th>\n",
       "    </tr>\n",
       "  </thead>\n",
       "  <tbody>\n",
       "    <tr>\n",
       "      <th>0</th>\n",
       "      <td>16</td>\n",
       "      <td>Gestão Financeira Lucrativa 3.0</td>\n",
       "      <td>65049.28</td>\n",
       "      <td>844.795844</td>\n",
       "    </tr>\n",
       "    <tr>\n",
       "      <th>1</th>\n",
       "      <td>1</td>\n",
       "      <td>Iluminismo Financeiro 2.1</td>\n",
       "      <td>64748.01</td>\n",
       "      <td>1135.930000</td>\n",
       "    </tr>\n",
       "    <tr>\n",
       "      <th>2</th>\n",
       "      <td>2</td>\n",
       "      <td>yampa - software financeiro da 4blue</td>\n",
       "      <td>40443.22</td>\n",
       "      <td>37.378207</td>\n",
       "    </tr>\n",
       "    <tr>\n",
       "      <th>3</th>\n",
       "      <td>15</td>\n",
       "      <td>Gestão Financeira Lucrativa 1.0</td>\n",
       "      <td>35901.68</td>\n",
       "      <td>652.757818</td>\n",
       "    </tr>\n",
       "    <tr>\n",
       "      <th>4</th>\n",
       "      <td>13</td>\n",
       "      <td>Curso de Precificação para Produtos e Serviços</td>\n",
       "      <td>12033.68</td>\n",
       "      <td>207.477241</td>\n",
       "    </tr>\n",
       "  </tbody>\n",
       "</table>\n",
       "</div>"
      ],
      "text/plain": [
       "   Código do produto                                         Produto  \\\n",
       "0                 16                 Gestão Financeira Lucrativa 3.0   \n",
       "1                  1                       Iluminismo Financeiro 2.1   \n",
       "2                  2            yampa - software financeiro da 4blue   \n",
       "3                 15                 Gestão Financeira Lucrativa 1.0   \n",
       "4                 13  Curso de Precificação para Produtos e Serviços   \n",
       "\n",
       "   Valor de compra com impostos  media de preços com impostos  \n",
       "0                      65049.28                    844.795844  \n",
       "1                      64748.01                   1135.930000  \n",
       "2                      40443.22                     37.378207  \n",
       "3                      35901.68                    652.757818  \n",
       "4                      12033.68                    207.477241  "
      ]
     },
     "execution_count": 369,
     "metadata": {},
     "output_type": "execute_result"
    }
   ],
   "source": [
    "df_com_imposto_media_final.sort_values('Valor de compra com impostos',ascending=False).head()"
   ]
  },
  {
   "cell_type": "code",
   "execution_count": 447,
   "metadata": {},
   "outputs": [],
   "source": [
    "df_com_imposto_media_final.to_csv('preco_medio_geral_por_produto.csv',sep=';')"
   ]
  },
  {
   "cell_type": "markdown",
   "metadata": {},
   "source": [
    "#### Quantidade de compras médias por cliente"
   ]
  },
  {
   "cell_type": "code",
   "execution_count": 380,
   "metadata": {},
   "outputs": [],
   "source": [
    "df_cliente_compras = df_transacao_aprovado[['Comprador(a)','Produto','Valor de compra com impostos']]"
   ]
  },
  {
   "cell_type": "code",
   "execution_count": 392,
   "metadata": {},
   "outputs": [],
   "source": [
    "df_compras_por_cliente = df_cliente_compras['Comprador(a)'].value_counts()"
   ]
  },
  {
   "cell_type": "code",
   "execution_count": 393,
   "metadata": {},
   "outputs": [
    {
     "data": {
      "text/plain": [
       "Fklrígih Rhdriguss tkgsdh               4\n",
       "Pkulk Rsgink dk Silvk Psrsirk           3\n",
       "lrunk ghrnsti thrsnghi dk ghstk Diks    3\n",
       "Dknnyslk Dhtinguss Tsixsirk dk Silvk    2\n",
       "Dsnisss Shusk lkrlhsk Litk              2\n",
       "Name: Comprador(a), dtype: int64"
      ]
     },
     "execution_count": 393,
     "metadata": {},
     "output_type": "execute_result"
    }
   ],
   "source": [
    "df_compras_por_cliente.head()"
   ]
  },
  {
   "cell_type": "code",
   "execution_count": 448,
   "metadata": {},
   "outputs": [],
   "source": [
    "df_compras_por_cliente.to_csv('compras_por_cliente.csv',sep=';')"
   ]
  },
  {
   "cell_type": "markdown",
   "metadata": {},
   "source": [
    "A quantidade transacao_aprovado por cliente é (compras): 1.049134948096886"
   ]
  },
  {
   "cell_type": "code",
   "execution_count": 398,
   "metadata": {},
   "outputs": [
    {
     "data": {
      "text/plain": [
       "1.049134948096886"
      ]
     },
     "execution_count": 398,
     "metadata": {},
     "output_type": "execute_result"
    }
   ],
   "source": [
    "quantidade_media_compra_clientes = (df_cliente_compras['Comprador(a)'].count())/(df_compras_por_cliente.count())\n",
    "quantidade_media_compra_clientes"
   ]
  },
  {
   "cell_type": "markdown",
   "metadata": {},
   "source": [
    "## 3.1 O/a candidato/a deverá adicionar ao mesmo dashboard mais um indicador a sua escolha:"
   ]
  },
  {
   "cell_type": "markdown",
   "metadata": {},
   "source": [
    "\n",
    "#### Quantidade de clientes com 1 compra, com 2 compras...\n",
    "\n",
    "\n"
   ]
  },
  {
   "cell_type": "markdown",
   "metadata": {},
   "source": [
    "#### Total de vendas;"
   ]
  },
  {
   "cell_type": "code",
   "execution_count": 401,
   "metadata": {},
   "outputs": [
    {
     "data": {
      "text/plain": [
       "array(['Aprovado', 'Boleto impresso', 'Atrasado', 'Aguardando Pagto',\n",
       "       'Cancelado', 'Reclamado', 'Expirado', 'Reembolsado', 'Completo',\n",
       "       'Chargeback', 'Iniciada'], dtype=object)"
      ]
     },
     "execution_count": 401,
     "metadata": {},
     "output_type": "execute_result"
    }
   ],
   "source": [
    "df2['Status da transação'].unique()"
   ]
  },
  {
   "cell_type": "code",
   "execution_count": 423,
   "metadata": {},
   "outputs": [],
   "source": [
    "aprovado = (df2['Status da transação'] == 'Aprovado').count()\n",
    "Boleto = (df2['Status da transação'] == 'Boleto impresso').count()\n",
    "Atrasado = (df2['Status da transação'] == 'Atrasado').count()\n",
    "Aguardando = (df2['Status da transação'] == 'Aguardando Pagto').count()\n",
    "Cancelado = (df2['Status da transação'] == 'Cancelado').count()\n",
    "Reclamado = (df2['Status da transação'] == 'Reclamado').count()\n",
    "Expirado = (df2['Status da transação'] == 'Expirado').count()\n",
    "Reembolsado = (df2['Status da transação'] == 'Reembolsado').count()\n",
    "Completo = (df2['Status da transação'] == 'Completo').count()\n",
    "Chargeback = (df2['Status da transação'] == 'Chargeback').count()\n",
    "Iniciada = (df2['Status da transação'] == 'Iniciada').count()\n",
    "\n"
   ]
  },
  {
   "cell_type": "code",
   "execution_count": 425,
   "metadata": {},
   "outputs": [
    {
     "name": "stdout",
     "output_type": "stream",
     "text": [
      "As transações com status Aprovados é: 13088\n",
      "As transações com status Boleto é: 13088\n",
      "As transações com status Atrasado é: 13088\n",
      "As transações com status Aguardando é: 13088\n",
      "As transações com status Cancelado é: 13088\n",
      "As transações com status Reclamado é: 13088\n",
      "As transações com status Expirado é: 13088\n",
      "As transações com status Reembolsado é: 13088\n",
      "As transações com status Completo é: 13088\n",
      "As transações com status Chargeback é: 13088\n",
      "As transações com status Iniciada é: 13088\n"
     ]
    }
   ],
   "source": [
    "print(f'As transações com status Aprovados é: {aprovado}')\n",
    "print(f'As transações com status Boleto é: {Boleto}')\n",
    "print(f'As transações com status Atrasado é: {Atrasado}')\n",
    "print(f'As transações com status Aguardando é: {Aguardando}')\n",
    "print(f'As transações com status Cancelado é: {Cancelado}')\n",
    "print(f'As transações com status Reclamado é: {Reclamado}')\n",
    "print(f'As transações com status Expirado é: {Expirado}')\n",
    "print(f'As transações com status Reembolsado é: {Reembolsado}')\n",
    "print(f'As transações com status Completo é: {Completo}')\n",
    "print(f'As transações com status Chargeback é: {Chargeback}')\n",
    "print(f'As transações com status Iniciada é: {Iniciada}')"
   ]
  },
  {
   "cell_type": "markdown",
   "metadata": {},
   "source": [
    "#### Total de taxas;"
   ]
  },
  {
   "cell_type": "markdown",
   "metadata": {},
   "source": [
    "#### Repetir de cada um dos top 3 produtos"
   ]
  },
  {
   "cell_type": "code",
   "execution_count": null,
   "metadata": {},
   "outputs": [],
   "source": []
  }
 ],
 "metadata": {
  "interpreter": {
   "hash": "b3ba2566441a7c06988d0923437866b63cedc61552a5af99d1f4fb67d367b25f"
  },
  "kernelspec": {
   "display_name": "Python 3.8.8 64-bit ('base': conda)",
   "language": "python",
   "name": "python3"
  },
  "language_info": {
   "codemirror_mode": {
    "name": "ipython",
    "version": 3
   },
   "file_extension": ".py",
   "mimetype": "text/x-python",
   "name": "python",
   "nbconvert_exporter": "python",
   "pygments_lexer": "ipython3",
   "version": "3.8.8"
  },
  "orig_nbformat": 4
 },
 "nbformat": 4,
 "nbformat_minor": 2
}
